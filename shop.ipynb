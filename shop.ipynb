{
  "nbformat": 4,
  "nbformat_minor": 0,
  "metadata": {
    "colab": {
      "name": "Untitled3.ipynb",
      "provenance": []
    },
    "kernelspec": {
      "name": "python3",
      "display_name": "Python 3"
    },
    "language_info": {
      "name": "python"
    }
  },
  "cells": [
    {
      "cell_type": "code",
      "metadata": {
        "id": "ywn0XnGQJPf1"
      },
      "source": [
        "import json\n",
        "import datetime"
      ],
      "execution_count": 5,
      "outputs": []
    },
    {
      "cell_type": "code",
      "metadata": {
        "colab": {
          "base_uri": "https://localhost:8080/"
        },
        "id": "YCckORcCJRU2",
        "outputId": "d737a7c0-5f48-4a27-b936-a69124099fc5"
      },
      "source": [
        "print('Welcome to the store!')"
      ],
      "execution_count": 6,
      "outputs": [
        {
          "output_type": "stream",
          "name": "stdout",
          "text": [
            "Welcome to the store!\n"
          ]
        }
      ]
    },
    {
      "cell_type": "code",
      "metadata": {
        "colab": {
          "base_uri": "https://localhost:8080/"
        },
        "id": "E9pCfzg5JVtN",
        "outputId": "d8ccbe42-cda5-4292-9d2f-5bf3ed6efb20"
      },
      "source": [
        "while True:\n",
        "    print(\"Welcome customer!\")\n",
        "    print('Enter 1 to buy items.')\n",
        "    print('Enter 2 to add items to inventory.')\n",
        "    print('Enter 9 to exit.')\n",
        "    command = input()\n",
        "    if command not in ['1', '2', '9']:\n",
        "        print('Enter valid command!')\n",
        "        continue\n",
        "    elif command == '9':\n",
        "        print('See you soon!')\n",
        "        break\n",
        "    elif command == '1':\n",
        "        with open('inventory.json', 'r') as f:\n",
        "            load_list = json.load(f)\n",
        "        print('What do you want to buy?')\n",
        "        print('Available items:')\n",
        "        for key, values in load_list.items():\n",
        "            print(key, ':', values['Product'], '- Size', values['Size'], '- Price', values['Price'])\n",
        "        while True:\n",
        "            print('Enter product id:')\n",
        "            id = input()\n",
        "            if id not in load_list.keys():\n",
        "                print('Enter valid id!')\n",
        "                continue\n",
        "            else:\n",
        "                print(f'Enter quantity: (max - {load_list[id][\"Quantity\"]})')\n",
        "                num = int(input())\n",
        "                if int(num) > load_list[id][\"Quantity\"]:\n",
        "                    print(f'Max is {load_list[id][\"Quantity\"]}')\n",
        "                else:\n",
        "                    print(f\"Your total is {load_list[id]['Price'] * num}\")\n",
        "            load_list[id]['Quantity'] = load_list[id]['Quantity'] - num\n",
        "            with open('inventory.json', 'w') as file:\n",
        "                json.dump(load_list, file, indent=4)\n",
        "            with open('sales.txt', 'a') as f:\n",
        "                print({datetime.datetime.now().ctime(): [load_list[id], f\"Quantity Bought: {num}\", f\"Revenue: {load_list[id]['Price'] * num}\"]}, file=f)\n",
        "            break\n",
        "    elif command == '2':\n",
        "        with open('inventory.json', 'r') as f:\n",
        "            load_list = json.load(f)\n",
        "        print(\"Add stock or new items?\")\n",
        "        print(\"Enter 'stock' or 'item' to continue:\")\n",
        "        command = input()\n",
        "        if command == 'stock':\n",
        "            print(\"Add stock to which item?\")\n",
        "            for key, values in load_list.items():\n",
        "                print(key, ':', values['Product'], '- Size', values['Size'], '- Price', values['Price'])\n",
        "            while True:\n",
        "                print('Enter product id:')\n",
        "                id = input()\n",
        "                if id not in load_list.keys():\n",
        "                    print('Enter valid id!')\n",
        "                    continue\n",
        "                else:\n",
        "                    print(f'Enter quantity: ')\n",
        "                    num = int(input())\n",
        "                    print(f\"Total is {load_list[id]['Price'] * num}\")\n",
        "                load_list[id]['Quantity'] = load_list[id]['Quantity'] + num\n",
        "                with open('inventory.json', 'w') as file:\n",
        "                    json.dump(load_list, file, indent=4)\n",
        "                with open('restock.txt', 'a') as f:\n",
        "                    print({datetime.datetime.now().ctime(): [load_list[id], f\"Quantity Stocked: {num}\", f\"Cost: {load_list[id]['Price'] * num}\"]}, file=f)\n",
        "                print(\"Item Succesfully restocked!\")\n",
        "                break\n",
        "        elif command == 'item':\n",
        "            print('Enter item details:')\n",
        "            print(f'These items already exist: {load_list.keys()}')\n",
        "            new_id = input(\"Enter product id: \")\n",
        "            new_product = input(\"Enter product name: \")\n",
        "            new_price = int(input('Enter price: '))\n",
        "            new_size = input(\"Enter size: (N/A if not applicable) \")\n",
        "            new_tax_rate = int(input('Enter tax rate: '))\n",
        "            new_man_date = input('Enter manufacturing date: (DD/MM/YYYY) ')\n",
        "            new_exp_date = input('Enter expiration date: (DD/MM/YYYY) or (N/A) ')\n",
        "            new_product_type = input('Enter product category: ')\n",
        "            new_quntity = int(input(\"Enter quantity \"))\n",
        "            load_list[new_id] = {'Product': new_product, 'Price': new_price, 'Size': new_size, 'Tax Rate': new_tax_rate,\n",
        "                        'Manufacturing Date': new_man_date, 'Expiring Date': new_exp_date,\n",
        "                        'Product type': new_product_type, 'Quantity': new_quntity}\n",
        "            with open('inventory.json', 'w') as file:\n",
        "                json.dump(load_list, file, indent=4)\n",
        "            with open('restock.txt', 'a') as f:\n",
        "                print({datetime.datetime.now().ctime(): load_list[new_id]}, file=f)\n",
        "            print(\"Item Succesfully added!\")\n",
        "    \n"
      ],
      "execution_count": 8,
      "outputs": [
        {
          "output_type": "stream",
          "name": "stdout",
          "text": [
            "\n",
            "Welcome customer!\n",
            "Enter 1 to buy items.\n",
            "Enter 2 to add items to inventory.\n",
            "Enter 9 to exit.\n",
            "1\n",
            "What do you want to buy?\n",
            "Available items:\n",
            "101 : Dairy Milk - Size Large - Price 25\n",
            "102 : Dairy Milk - Size Medium - Price 15\n",
            "103 : Dairy Milk - Size Small - Price 10\n",
            "104 : Mazaa - Size Medium - Price 20\n",
            "105 : Mazaa - Size Small - Price 10\n",
            "106 : Mirinda - Size Large - Price 60\n",
            "107 : Blue Pen - Size N/A - Price 20\n",
            "108 : Black Pen - Size N/A - Price 20\n",
            "109 : Red Pen - Size N/A - Price 20\n",
            "110 : Blue Ball Pen - Size N/A - Price 10\n",
            "111 : Black Ball Pen - Size N/A - Price 10\n",
            "112 : Red Ball Pen - Size N/A - Price 10\n",
            "113 : Dulex Battery - Size AA - Price 20\n",
            "114 : Dulex Battery - Size AAA - Price 10\n",
            "115 : MicroCell Battery - Size AA - Price 25\n",
            "116 : Cake - Size Large - Price 580\n",
            "117 : Laptop - Size N/A - Price 50000\n",
            "118 : Mobile - Size N/A - Price 25000\n",
            "Enter product id:\n",
            "118\n",
            "Enter quantity: (max - 10)\n",
            "1\n",
            "Your total is 25000\n",
            "\n",
            "Welcome customer!\n",
            "Enter 1 to buy items.\n",
            "Enter 2 to add items to inventory.\n",
            "Enter 9 to exit.\n",
            "2\n",
            "Add stock or new items?\n",
            "Enter 'stock' or 'item' to continue:\n",
            "stock\n",
            "Add stock to which item?\n",
            "101 : Dairy Milk - Size Large - Price 25\n",
            "102 : Dairy Milk - Size Medium - Price 15\n",
            "103 : Dairy Milk - Size Small - Price 10\n",
            "104 : Mazaa - Size Medium - Price 20\n",
            "105 : Mazaa - Size Small - Price 10\n",
            "106 : Mirinda - Size Large - Price 60\n",
            "107 : Blue Pen - Size N/A - Price 20\n",
            "108 : Black Pen - Size N/A - Price 20\n",
            "109 : Red Pen - Size N/A - Price 20\n",
            "110 : Blue Ball Pen - Size N/A - Price 10\n",
            "111 : Black Ball Pen - Size N/A - Price 10\n",
            "112 : Red Ball Pen - Size N/A - Price 10\n",
            "113 : Dulex Battery - Size AA - Price 20\n",
            "114 : Dulex Battery - Size AAA - Price 10\n",
            "115 : MicroCell Battery - Size AA - Price 25\n",
            "116 : Cake - Size Large - Price 580\n",
            "117 : Laptop - Size N/A - Price 50000\n",
            "118 : Mobile - Size N/A - Price 25000\n",
            "Enter product id:\n",
            "101\n",
            "Enter quantity: \n",
            "63\n",
            "Total is 1575\n",
            "Item Succesfully restocked!\n",
            "\n",
            "Welcome customer!\n",
            "Enter 1 to buy items.\n",
            "Enter 2 to add items to inventory.\n",
            "Enter 9 to exit.\n",
            "2\n",
            "Add stock or new items?\n",
            "Enter 'stock' or 'item' to continue:\n",
            "item\n",
            "Enter item details:\n",
            "These items already exist: dict_keys(['101', '102', '103', '104', '105', '106', '107', '108', '109', '110', '111', '112', '113', '114', '115', '116', '117', '118'])\n",
            "Enter product id:200\n",
            "Enter product name:Kurkure\n",
            "Enter price:20\n",
            "Enter size: (N/A if not applicable)Medium\n",
            "Enter tax rate:12\n",
            "Enter manufacturing date: (DD/MM/YYYY)20/12/2020\n",
            "Enter expiration date: (DD/MM/YYYY) or (N/A)20/12/2021\n",
            "Enter product category:Sancks\n",
            "Enter quantity36\n",
            "Item Succesfully added!\n"
          ]
        }
      ]
    },
    {
      "cell_type": "code",
      "metadata": {
        "id": "dIvchkuoJf-N"
      },
      "source": [
        ""
      ],
      "execution_count": null,
      "outputs": []
    }
  ]
}